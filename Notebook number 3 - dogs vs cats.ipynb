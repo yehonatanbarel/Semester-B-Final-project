{
 "cells": [
  {
   "cell_type": "code",
   "execution_count": 46,
   "metadata": {},
   "outputs": [],
   "source": [
    "import numpy as np\n",
    "import pandas as pd\n",
    "import matplotlib.pyplot as plt\n",
    "%matplotlib inline\n",
    "import os\n",
    "import cv2\n",
    "from sklearn.model_selection import train_test_split\n",
    "from sklearn.model_selection import cross_val_score\n",
    "from sklearn.decomposition import PCA\n",
    "from sklearn.preprocessing import StandardScaler\n",
    "from sklearn.ensemble import BaggingClassifier\n",
    "from sklearn.ensemble import RandomForestClassifier\n",
    "from sklearn.ensemble import VotingClassifier\n",
    "from sklearn.neighbors import KNeighborsClassifier\n",
    "from sklearn.tree import DecisionTreeClassifier\n",
    "from sklearn.metrics import classification_report\n",
    "from sklearn.metrics import plot_confusion_matrix\n",
    "from sklearn.linear_model import LogisticRegression\n",
    "from sklearn.metrics import accuracy_score\n",
    "from xgboost import XGBClassifier\n",
    "from sklearn.cluster import KMeans\n",
    "from sklearn.pipeline import Pipeline\n",
    "from sklearn.metrics import accuracy_score\n",
    "import warnings\n",
    "warnings.filterwarnings('ignore')\n",
    "from sklearn.model_selection import GridSearchCV"
   ]
  },
  {
   "cell_type": "code",
   "execution_count": 2,
   "metadata": {},
   "outputs": [],
   "source": [
    "file_path = r'C:\\Users\\PC\\semester B project - final V33333333333333\\train'\n",
    "filenames = os.listdir(file_path)\n",
    "classes = []\n",
    "for filename in filenames:\n",
    "    image_class = filename.split(\".\")[0]\n",
    "    if image_class == \"dog\":\n",
    "        classes.append(1)\n",
    "    else:\n",
    "        classes.append(0)"
   ]
  },
  {
   "cell_type": "code",
   "execution_count": 3,
   "metadata": {},
   "outputs": [],
   "source": [
    "df = pd.DataFrame({\"filename\": filenames, \"category\": classes})\n",
    "df[\"category\"] = df[\"category\"].replace({0: \"cat\", 1: \"dog\"})"
   ]
  },
  {
   "cell_type": "code",
   "execution_count": 4,
   "metadata": {},
   "outputs": [
    {
     "data": {
      "text/html": [
       "<div>\n",
       "<style scoped>\n",
       "    .dataframe tbody tr th:only-of-type {\n",
       "        vertical-align: middle;\n",
       "    }\n",
       "\n",
       "    .dataframe tbody tr th {\n",
       "        vertical-align: top;\n",
       "    }\n",
       "\n",
       "    .dataframe thead th {\n",
       "        text-align: right;\n",
       "    }\n",
       "</style>\n",
       "<table border=\"1\" class=\"dataframe\">\n",
       "  <thead>\n",
       "    <tr style=\"text-align: right;\">\n",
       "      <th></th>\n",
       "      <th>filename</th>\n",
       "      <th>category</th>\n",
       "    </tr>\n",
       "  </thead>\n",
       "  <tbody>\n",
       "    <tr>\n",
       "      <th>0</th>\n",
       "      <td>cat.0.jpg</td>\n",
       "      <td>cat</td>\n",
       "    </tr>\n",
       "    <tr>\n",
       "      <th>1</th>\n",
       "      <td>cat.1.jpg</td>\n",
       "      <td>cat</td>\n",
       "    </tr>\n",
       "    <tr>\n",
       "      <th>2</th>\n",
       "      <td>cat.10.jpg</td>\n",
       "      <td>cat</td>\n",
       "    </tr>\n",
       "    <tr>\n",
       "      <th>3</th>\n",
       "      <td>cat.100.jpg</td>\n",
       "      <td>cat</td>\n",
       "    </tr>\n",
       "    <tr>\n",
       "      <th>4</th>\n",
       "      <td>cat.1000.jpg</td>\n",
       "      <td>cat</td>\n",
       "    </tr>\n",
       "  </tbody>\n",
       "</table>\n",
       "</div>"
      ],
      "text/plain": [
       "       filename category\n",
       "0     cat.0.jpg      cat\n",
       "1     cat.1.jpg      cat\n",
       "2    cat.10.jpg      cat\n",
       "3   cat.100.jpg      cat\n",
       "4  cat.1000.jpg      cat"
      ]
     },
     "execution_count": 4,
     "metadata": {},
     "output_type": "execute_result"
    }
   ],
   "source": [
    "df.head()"
   ]
  },
  {
   "cell_type": "code",
   "execution_count": 5,
   "metadata": {},
   "outputs": [
    {
     "data": {
      "text/html": [
       "<div>\n",
       "<style scoped>\n",
       "    .dataframe tbody tr th:only-of-type {\n",
       "        vertical-align: middle;\n",
       "    }\n",
       "\n",
       "    .dataframe tbody tr th {\n",
       "        vertical-align: top;\n",
       "    }\n",
       "\n",
       "    .dataframe thead th {\n",
       "        text-align: right;\n",
       "    }\n",
       "</style>\n",
       "<table border=\"1\" class=\"dataframe\">\n",
       "  <thead>\n",
       "    <tr style=\"text-align: right;\">\n",
       "      <th></th>\n",
       "      <th>filename</th>\n",
       "      <th>category</th>\n",
       "    </tr>\n",
       "  </thead>\n",
       "  <tbody>\n",
       "    <tr>\n",
       "      <th>24995</th>\n",
       "      <td>dog.9995.jpg</td>\n",
       "      <td>dog</td>\n",
       "    </tr>\n",
       "    <tr>\n",
       "      <th>24996</th>\n",
       "      <td>dog.9996.jpg</td>\n",
       "      <td>dog</td>\n",
       "    </tr>\n",
       "    <tr>\n",
       "      <th>24997</th>\n",
       "      <td>dog.9997.jpg</td>\n",
       "      <td>dog</td>\n",
       "    </tr>\n",
       "    <tr>\n",
       "      <th>24998</th>\n",
       "      <td>dog.9998.jpg</td>\n",
       "      <td>dog</td>\n",
       "    </tr>\n",
       "    <tr>\n",
       "      <th>24999</th>\n",
       "      <td>dog.9999.jpg</td>\n",
       "      <td>dog</td>\n",
       "    </tr>\n",
       "  </tbody>\n",
       "</table>\n",
       "</div>"
      ],
      "text/plain": [
       "           filename category\n",
       "24995  dog.9995.jpg      dog\n",
       "24996  dog.9996.jpg      dog\n",
       "24997  dog.9997.jpg      dog\n",
       "24998  dog.9998.jpg      dog\n",
       "24999  dog.9999.jpg      dog"
      ]
     },
     "execution_count": 5,
     "metadata": {},
     "output_type": "execute_result"
    }
   ],
   "source": [
    "df.tail()"
   ]
  },
  {
   "cell_type": "code",
   "execution_count": 6,
   "metadata": {},
   "outputs": [
    {
     "data": {
      "text/plain": [
       "dog    12500\n",
       "cat    12500\n",
       "Name: category, dtype: int64"
      ]
     },
     "execution_count": 6,
     "metadata": {},
     "output_type": "execute_result"
    }
   ],
   "source": [
    "df.category.value_counts()"
   ]
  },
  {
   "cell_type": "code",
   "execution_count": 7,
   "metadata": {},
   "outputs": [
    {
     "data": {
      "text/plain": [
       "'C:\\\\Users\\\\PC\\\\semester B project - final V33333333333333\\\\train\\\\cat.0.jpg'"
      ]
     },
     "execution_count": 7,
     "metadata": {},
     "output_type": "execute_result"
    }
   ],
   "source": [
    "####################################################################################################\n",
    "os.path.join(f'{file_path}', filenames[0])\n",
    "############################################################################################"
   ]
  },
  {
   "cell_type": "code",
   "execution_count": 8,
   "metadata": {},
   "outputs": [],
   "source": [
    "file_path = r'C:\\Users\\PC\\semester B project - final V33333333333333\\train'\n",
    "filenames = os.listdir(file_path)\n",
    "new_df = pd.DataFrame()\n",
    "for i in range(25000):\n",
    "    img = cv2.imread(os.path.join(f'{file_path}', filenames[i]), 0)\n",
    "    img_resized = cv2.resize(img, (28,28),interpolation = cv2.INTER_AREA)\n",
    "    img_reshape = img_resized.reshape(28*28)\n",
    "    one_row_of_df = pd.DataFrame(img_reshape)\n",
    "    new_df = pd.concat([new_df,one_row_of_df],axis=1)"
   ]
  },
  {
   "cell_type": "code",
   "execution_count": 9,
   "metadata": {},
   "outputs": [
    {
     "data": {
      "text/html": [
       "<div>\n",
       "<style scoped>\n",
       "    .dataframe tbody tr th:only-of-type {\n",
       "        vertical-align: middle;\n",
       "    }\n",
       "\n",
       "    .dataframe tbody tr th {\n",
       "        vertical-align: top;\n",
       "    }\n",
       "\n",
       "    .dataframe thead th {\n",
       "        text-align: right;\n",
       "    }\n",
       "</style>\n",
       "<table border=\"1\" class=\"dataframe\">\n",
       "  <thead>\n",
       "    <tr style=\"text-align: right;\">\n",
       "      <th></th>\n",
       "      <th>0</th>\n",
       "      <th>0</th>\n",
       "      <th>0</th>\n",
       "      <th>0</th>\n",
       "      <th>0</th>\n",
       "      <th>0</th>\n",
       "      <th>0</th>\n",
       "      <th>0</th>\n",
       "      <th>0</th>\n",
       "      <th>0</th>\n",
       "      <th>...</th>\n",
       "      <th>0</th>\n",
       "      <th>0</th>\n",
       "      <th>0</th>\n",
       "      <th>0</th>\n",
       "      <th>0</th>\n",
       "      <th>0</th>\n",
       "      <th>0</th>\n",
       "      <th>0</th>\n",
       "      <th>0</th>\n",
       "      <th>0</th>\n",
       "    </tr>\n",
       "  </thead>\n",
       "  <tbody>\n",
       "    <tr>\n",
       "      <th>0</th>\n",
       "      <td>174</td>\n",
       "      <td>44</td>\n",
       "      <td>50</td>\n",
       "      <td>223</td>\n",
       "      <td>100</td>\n",
       "      <td>8</td>\n",
       "      <td>117</td>\n",
       "      <td>60</td>\n",
       "      <td>244</td>\n",
       "      <td>76</td>\n",
       "      <td>...</td>\n",
       "      <td>176</td>\n",
       "      <td>33</td>\n",
       "      <td>32</td>\n",
       "      <td>203</td>\n",
       "      <td>126</td>\n",
       "      <td>142</td>\n",
       "      <td>92</td>\n",
       "      <td>41</td>\n",
       "      <td>243</td>\n",
       "      <td>243</td>\n",
       "    </tr>\n",
       "    <tr>\n",
       "      <th>1</th>\n",
       "      <td>188</td>\n",
       "      <td>47</td>\n",
       "      <td>59</td>\n",
       "      <td>228</td>\n",
       "      <td>95</td>\n",
       "      <td>8</td>\n",
       "      <td>112</td>\n",
       "      <td>62</td>\n",
       "      <td>247</td>\n",
       "      <td>73</td>\n",
       "      <td>...</td>\n",
       "      <td>170</td>\n",
       "      <td>26</td>\n",
       "      <td>40</td>\n",
       "      <td>203</td>\n",
       "      <td>130</td>\n",
       "      <td>147</td>\n",
       "      <td>90</td>\n",
       "      <td>50</td>\n",
       "      <td>181</td>\n",
       "      <td>245</td>\n",
       "    </tr>\n",
       "    <tr>\n",
       "      <th>2</th>\n",
       "      <td>199</td>\n",
       "      <td>51</td>\n",
       "      <td>60</td>\n",
       "      <td>227</td>\n",
       "      <td>133</td>\n",
       "      <td>8</td>\n",
       "      <td>94</td>\n",
       "      <td>62</td>\n",
       "      <td>253</td>\n",
       "      <td>68</td>\n",
       "      <td>...</td>\n",
       "      <td>177</td>\n",
       "      <td>45</td>\n",
       "      <td>57</td>\n",
       "      <td>203</td>\n",
       "      <td>127</td>\n",
       "      <td>149</td>\n",
       "      <td>88</td>\n",
       "      <td>44</td>\n",
       "      <td>114</td>\n",
       "      <td>248</td>\n",
       "    </tr>\n",
       "    <tr>\n",
       "      <th>3</th>\n",
       "      <td>204</td>\n",
       "      <td>43</td>\n",
       "      <td>59</td>\n",
       "      <td>229</td>\n",
       "      <td>183</td>\n",
       "      <td>8</td>\n",
       "      <td>92</td>\n",
       "      <td>63</td>\n",
       "      <td>253</td>\n",
       "      <td>74</td>\n",
       "      <td>...</td>\n",
       "      <td>196</td>\n",
       "      <td>132</td>\n",
       "      <td>75</td>\n",
       "      <td>205</td>\n",
       "      <td>118</td>\n",
       "      <td>152</td>\n",
       "      <td>83</td>\n",
       "      <td>51</td>\n",
       "      <td>90</td>\n",
       "      <td>242</td>\n",
       "    </tr>\n",
       "    <tr>\n",
       "      <th>4</th>\n",
       "      <td>209</td>\n",
       "      <td>42</td>\n",
       "      <td>57</td>\n",
       "      <td>227</td>\n",
       "      <td>196</td>\n",
       "      <td>8</td>\n",
       "      <td>106</td>\n",
       "      <td>66</td>\n",
       "      <td>254</td>\n",
       "      <td>91</td>\n",
       "      <td>...</td>\n",
       "      <td>201</td>\n",
       "      <td>167</td>\n",
       "      <td>62</td>\n",
       "      <td>204</td>\n",
       "      <td>139</td>\n",
       "      <td>154</td>\n",
       "      <td>95</td>\n",
       "      <td>91</td>\n",
       "      <td>88</td>\n",
       "      <td>248</td>\n",
       "    </tr>\n",
       "    <tr>\n",
       "      <th>...</th>\n",
       "      <td>...</td>\n",
       "      <td>...</td>\n",
       "      <td>...</td>\n",
       "      <td>...</td>\n",
       "      <td>...</td>\n",
       "      <td>...</td>\n",
       "      <td>...</td>\n",
       "      <td>...</td>\n",
       "      <td>...</td>\n",
       "      <td>...</td>\n",
       "      <td>...</td>\n",
       "      <td>...</td>\n",
       "      <td>...</td>\n",
       "      <td>...</td>\n",
       "      <td>...</td>\n",
       "      <td>...</td>\n",
       "      <td>...</td>\n",
       "      <td>...</td>\n",
       "      <td>...</td>\n",
       "      <td>...</td>\n",
       "      <td>...</td>\n",
       "    </tr>\n",
       "    <tr>\n",
       "      <th>779</th>\n",
       "      <td>31</td>\n",
       "      <td>52</td>\n",
       "      <td>72</td>\n",
       "      <td>243</td>\n",
       "      <td>99</td>\n",
       "      <td>23</td>\n",
       "      <td>159</td>\n",
       "      <td>72</td>\n",
       "      <td>119</td>\n",
       "      <td>188</td>\n",
       "      <td>...</td>\n",
       "      <td>71</td>\n",
       "      <td>175</td>\n",
       "      <td>104</td>\n",
       "      <td>133</td>\n",
       "      <td>78</td>\n",
       "      <td>163</td>\n",
       "      <td>68</td>\n",
       "      <td>145</td>\n",
       "      <td>98</td>\n",
       "      <td>254</td>\n",
       "    </tr>\n",
       "    <tr>\n",
       "      <th>780</th>\n",
       "      <td>11</td>\n",
       "      <td>55</td>\n",
       "      <td>81</td>\n",
       "      <td>229</td>\n",
       "      <td>95</td>\n",
       "      <td>22</td>\n",
       "      <td>163</td>\n",
       "      <td>73</td>\n",
       "      <td>116</td>\n",
       "      <td>190</td>\n",
       "      <td>...</td>\n",
       "      <td>84</td>\n",
       "      <td>181</td>\n",
       "      <td>102</td>\n",
       "      <td>173</td>\n",
       "      <td>68</td>\n",
       "      <td>163</td>\n",
       "      <td>82</td>\n",
       "      <td>135</td>\n",
       "      <td>99</td>\n",
       "      <td>254</td>\n",
       "    </tr>\n",
       "    <tr>\n",
       "      <th>781</th>\n",
       "      <td>4</td>\n",
       "      <td>57</td>\n",
       "      <td>128</td>\n",
       "      <td>213</td>\n",
       "      <td>80</td>\n",
       "      <td>20</td>\n",
       "      <td>145</td>\n",
       "      <td>73</td>\n",
       "      <td>108</td>\n",
       "      <td>188</td>\n",
       "      <td>...</td>\n",
       "      <td>92</td>\n",
       "      <td>190</td>\n",
       "      <td>96</td>\n",
       "      <td>165</td>\n",
       "      <td>55</td>\n",
       "      <td>165</td>\n",
       "      <td>88</td>\n",
       "      <td>136</td>\n",
       "      <td>106</td>\n",
       "      <td>254</td>\n",
       "    </tr>\n",
       "    <tr>\n",
       "      <th>782</th>\n",
       "      <td>3</td>\n",
       "      <td>61</td>\n",
       "      <td>144</td>\n",
       "      <td>211</td>\n",
       "      <td>85</td>\n",
       "      <td>18</td>\n",
       "      <td>158</td>\n",
       "      <td>71</td>\n",
       "      <td>103</td>\n",
       "      <td>180</td>\n",
       "      <td>...</td>\n",
       "      <td>100</td>\n",
       "      <td>192</td>\n",
       "      <td>82</td>\n",
       "      <td>172</td>\n",
       "      <td>43</td>\n",
       "      <td>167</td>\n",
       "      <td>84</td>\n",
       "      <td>138</td>\n",
       "      <td>112</td>\n",
       "      <td>254</td>\n",
       "    </tr>\n",
       "    <tr>\n",
       "      <th>783</th>\n",
       "      <td>3</td>\n",
       "      <td>53</td>\n",
       "      <td>165</td>\n",
       "      <td>215</td>\n",
       "      <td>84</td>\n",
       "      <td>16</td>\n",
       "      <td>164</td>\n",
       "      <td>46</td>\n",
       "      <td>92</td>\n",
       "      <td>157</td>\n",
       "      <td>...</td>\n",
       "      <td>73</td>\n",
       "      <td>184</td>\n",
       "      <td>64</td>\n",
       "      <td>164</td>\n",
       "      <td>25</td>\n",
       "      <td>168</td>\n",
       "      <td>83</td>\n",
       "      <td>138</td>\n",
       "      <td>120</td>\n",
       "      <td>254</td>\n",
       "    </tr>\n",
       "  </tbody>\n",
       "</table>\n",
       "<p>784 rows × 25000 columns</p>\n",
       "</div>"
      ],
      "text/plain": [
       "       0   0    0    0    0   0    0   0    0    0  ...    0    0    0    0  \\\n",
       "0    174  44   50  223  100   8  117  60  244   76  ...  176   33   32  203   \n",
       "1    188  47   59  228   95   8  112  62  247   73  ...  170   26   40  203   \n",
       "2    199  51   60  227  133   8   94  62  253   68  ...  177   45   57  203   \n",
       "3    204  43   59  229  183   8   92  63  253   74  ...  196  132   75  205   \n",
       "4    209  42   57  227  196   8  106  66  254   91  ...  201  167   62  204   \n",
       "..   ...  ..  ...  ...  ...  ..  ...  ..  ...  ...  ...  ...  ...  ...  ...   \n",
       "779   31  52   72  243   99  23  159  72  119  188  ...   71  175  104  133   \n",
       "780   11  55   81  229   95  22  163  73  116  190  ...   84  181  102  173   \n",
       "781    4  57  128  213   80  20  145  73  108  188  ...   92  190   96  165   \n",
       "782    3  61  144  211   85  18  158  71  103  180  ...  100  192   82  172   \n",
       "783    3  53  165  215   84  16  164  46   92  157  ...   73  184   64  164   \n",
       "\n",
       "       0    0   0    0    0    0  \n",
       "0    126  142  92   41  243  243  \n",
       "1    130  147  90   50  181  245  \n",
       "2    127  149  88   44  114  248  \n",
       "3    118  152  83   51   90  242  \n",
       "4    139  154  95   91   88  248  \n",
       "..   ...  ...  ..  ...  ...  ...  \n",
       "779   78  163  68  145   98  254  \n",
       "780   68  163  82  135   99  254  \n",
       "781   55  165  88  136  106  254  \n",
       "782   43  167  84  138  112  254  \n",
       "783   25  168  83  138  120  254  \n",
       "\n",
       "[784 rows x 25000 columns]"
      ]
     },
     "execution_count": 9,
     "metadata": {},
     "output_type": "execute_result"
    }
   ],
   "source": [
    "new_df"
   ]
  },
  {
   "cell_type": "code",
   "execution_count": 10,
   "metadata": {},
   "outputs": [
    {
     "data": {
      "text/html": [
       "<div>\n",
       "<style scoped>\n",
       "    .dataframe tbody tr th:only-of-type {\n",
       "        vertical-align: middle;\n",
       "    }\n",
       "\n",
       "    .dataframe tbody tr th {\n",
       "        vertical-align: top;\n",
       "    }\n",
       "\n",
       "    .dataframe thead th {\n",
       "        text-align: right;\n",
       "    }\n",
       "</style>\n",
       "<table border=\"1\" class=\"dataframe\">\n",
       "  <thead>\n",
       "    <tr style=\"text-align: right;\">\n",
       "      <th></th>\n",
       "      <th>0</th>\n",
       "      <th>1</th>\n",
       "      <th>2</th>\n",
       "      <th>3</th>\n",
       "      <th>4</th>\n",
       "      <th>5</th>\n",
       "      <th>6</th>\n",
       "      <th>7</th>\n",
       "      <th>8</th>\n",
       "      <th>9</th>\n",
       "      <th>...</th>\n",
       "      <th>775</th>\n",
       "      <th>776</th>\n",
       "      <th>777</th>\n",
       "      <th>778</th>\n",
       "      <th>779</th>\n",
       "      <th>780</th>\n",
       "      <th>781</th>\n",
       "      <th>782</th>\n",
       "      <th>783</th>\n",
       "      <th>category</th>\n",
       "    </tr>\n",
       "  </thead>\n",
       "  <tbody>\n",
       "    <tr>\n",
       "      <th>0</th>\n",
       "      <td>174</td>\n",
       "      <td>188</td>\n",
       "      <td>199</td>\n",
       "      <td>204</td>\n",
       "      <td>209</td>\n",
       "      <td>215</td>\n",
       "      <td>184</td>\n",
       "      <td>161</td>\n",
       "      <td>135</td>\n",
       "      <td>102</td>\n",
       "      <td>...</td>\n",
       "      <td>28</td>\n",
       "      <td>9</td>\n",
       "      <td>17</td>\n",
       "      <td>40</td>\n",
       "      <td>31</td>\n",
       "      <td>11</td>\n",
       "      <td>4</td>\n",
       "      <td>3</td>\n",
       "      <td>3</td>\n",
       "      <td>cat</td>\n",
       "    </tr>\n",
       "    <tr>\n",
       "      <th>1</th>\n",
       "      <td>44</td>\n",
       "      <td>47</td>\n",
       "      <td>51</td>\n",
       "      <td>43</td>\n",
       "      <td>42</td>\n",
       "      <td>52</td>\n",
       "      <td>65</td>\n",
       "      <td>69</td>\n",
       "      <td>75</td>\n",
       "      <td>90</td>\n",
       "      <td>...</td>\n",
       "      <td>55</td>\n",
       "      <td>35</td>\n",
       "      <td>34</td>\n",
       "      <td>51</td>\n",
       "      <td>52</td>\n",
       "      <td>55</td>\n",
       "      <td>57</td>\n",
       "      <td>61</td>\n",
       "      <td>53</td>\n",
       "      <td>cat</td>\n",
       "    </tr>\n",
       "    <tr>\n",
       "      <th>2</th>\n",
       "      <td>50</td>\n",
       "      <td>59</td>\n",
       "      <td>60</td>\n",
       "      <td>59</td>\n",
       "      <td>57</td>\n",
       "      <td>54</td>\n",
       "      <td>52</td>\n",
       "      <td>52</td>\n",
       "      <td>50</td>\n",
       "      <td>52</td>\n",
       "      <td>...</td>\n",
       "      <td>116</td>\n",
       "      <td>131</td>\n",
       "      <td>72</td>\n",
       "      <td>75</td>\n",
       "      <td>72</td>\n",
       "      <td>81</td>\n",
       "      <td>128</td>\n",
       "      <td>144</td>\n",
       "      <td>165</td>\n",
       "      <td>cat</td>\n",
       "    </tr>\n",
       "    <tr>\n",
       "      <th>3</th>\n",
       "      <td>223</td>\n",
       "      <td>228</td>\n",
       "      <td>227</td>\n",
       "      <td>229</td>\n",
       "      <td>227</td>\n",
       "      <td>226</td>\n",
       "      <td>228</td>\n",
       "      <td>225</td>\n",
       "      <td>223</td>\n",
       "      <td>209</td>\n",
       "      <td>...</td>\n",
       "      <td>160</td>\n",
       "      <td>176</td>\n",
       "      <td>235</td>\n",
       "      <td>250</td>\n",
       "      <td>243</td>\n",
       "      <td>229</td>\n",
       "      <td>213</td>\n",
       "      <td>211</td>\n",
       "      <td>215</td>\n",
       "      <td>cat</td>\n",
       "    </tr>\n",
       "    <tr>\n",
       "      <th>4</th>\n",
       "      <td>100</td>\n",
       "      <td>95</td>\n",
       "      <td>133</td>\n",
       "      <td>183</td>\n",
       "      <td>196</td>\n",
       "      <td>238</td>\n",
       "      <td>213</td>\n",
       "      <td>180</td>\n",
       "      <td>153</td>\n",
       "      <td>141</td>\n",
       "      <td>...</td>\n",
       "      <td>99</td>\n",
       "      <td>106</td>\n",
       "      <td>100</td>\n",
       "      <td>96</td>\n",
       "      <td>99</td>\n",
       "      <td>95</td>\n",
       "      <td>80</td>\n",
       "      <td>85</td>\n",
       "      <td>84</td>\n",
       "      <td>cat</td>\n",
       "    </tr>\n",
       "    <tr>\n",
       "      <th>...</th>\n",
       "      <td>...</td>\n",
       "      <td>...</td>\n",
       "      <td>...</td>\n",
       "      <td>...</td>\n",
       "      <td>...</td>\n",
       "      <td>...</td>\n",
       "      <td>...</td>\n",
       "      <td>...</td>\n",
       "      <td>...</td>\n",
       "      <td>...</td>\n",
       "      <td>...</td>\n",
       "      <td>...</td>\n",
       "      <td>...</td>\n",
       "      <td>...</td>\n",
       "      <td>...</td>\n",
       "      <td>...</td>\n",
       "      <td>...</td>\n",
       "      <td>...</td>\n",
       "      <td>...</td>\n",
       "      <td>...</td>\n",
       "      <td>...</td>\n",
       "    </tr>\n",
       "    <tr>\n",
       "      <th>24995</th>\n",
       "      <td>142</td>\n",
       "      <td>147</td>\n",
       "      <td>149</td>\n",
       "      <td>152</td>\n",
       "      <td>154</td>\n",
       "      <td>158</td>\n",
       "      <td>159</td>\n",
       "      <td>160</td>\n",
       "      <td>163</td>\n",
       "      <td>164</td>\n",
       "      <td>...</td>\n",
       "      <td>157</td>\n",
       "      <td>169</td>\n",
       "      <td>153</td>\n",
       "      <td>159</td>\n",
       "      <td>163</td>\n",
       "      <td>163</td>\n",
       "      <td>165</td>\n",
       "      <td>167</td>\n",
       "      <td>168</td>\n",
       "      <td>dog</td>\n",
       "    </tr>\n",
       "    <tr>\n",
       "      <th>24996</th>\n",
       "      <td>92</td>\n",
       "      <td>90</td>\n",
       "      <td>88</td>\n",
       "      <td>83</td>\n",
       "      <td>95</td>\n",
       "      <td>88</td>\n",
       "      <td>97</td>\n",
       "      <td>98</td>\n",
       "      <td>105</td>\n",
       "      <td>108</td>\n",
       "      <td>...</td>\n",
       "      <td>53</td>\n",
       "      <td>13</td>\n",
       "      <td>20</td>\n",
       "      <td>33</td>\n",
       "      <td>68</td>\n",
       "      <td>82</td>\n",
       "      <td>88</td>\n",
       "      <td>84</td>\n",
       "      <td>83</td>\n",
       "      <td>dog</td>\n",
       "    </tr>\n",
       "    <tr>\n",
       "      <th>24997</th>\n",
       "      <td>41</td>\n",
       "      <td>50</td>\n",
       "      <td>44</td>\n",
       "      <td>51</td>\n",
       "      <td>91</td>\n",
       "      <td>111</td>\n",
       "      <td>72</td>\n",
       "      <td>75</td>\n",
       "      <td>101</td>\n",
       "      <td>122</td>\n",
       "      <td>...</td>\n",
       "      <td>153</td>\n",
       "      <td>154</td>\n",
       "      <td>166</td>\n",
       "      <td>160</td>\n",
       "      <td>145</td>\n",
       "      <td>135</td>\n",
       "      <td>136</td>\n",
       "      <td>138</td>\n",
       "      <td>138</td>\n",
       "      <td>dog</td>\n",
       "    </tr>\n",
       "    <tr>\n",
       "      <th>24998</th>\n",
       "      <td>243</td>\n",
       "      <td>181</td>\n",
       "      <td>114</td>\n",
       "      <td>90</td>\n",
       "      <td>88</td>\n",
       "      <td>86</td>\n",
       "      <td>94</td>\n",
       "      <td>87</td>\n",
       "      <td>103</td>\n",
       "      <td>98</td>\n",
       "      <td>...</td>\n",
       "      <td>137</td>\n",
       "      <td>135</td>\n",
       "      <td>125</td>\n",
       "      <td>115</td>\n",
       "      <td>98</td>\n",
       "      <td>99</td>\n",
       "      <td>106</td>\n",
       "      <td>112</td>\n",
       "      <td>120</td>\n",
       "      <td>dog</td>\n",
       "    </tr>\n",
       "    <tr>\n",
       "      <th>24999</th>\n",
       "      <td>243</td>\n",
       "      <td>245</td>\n",
       "      <td>248</td>\n",
       "      <td>242</td>\n",
       "      <td>248</td>\n",
       "      <td>249</td>\n",
       "      <td>249</td>\n",
       "      <td>248</td>\n",
       "      <td>242</td>\n",
       "      <td>248</td>\n",
       "      <td>...</td>\n",
       "      <td>255</td>\n",
       "      <td>255</td>\n",
       "      <td>255</td>\n",
       "      <td>255</td>\n",
       "      <td>254</td>\n",
       "      <td>254</td>\n",
       "      <td>254</td>\n",
       "      <td>254</td>\n",
       "      <td>254</td>\n",
       "      <td>dog</td>\n",
       "    </tr>\n",
       "  </tbody>\n",
       "</table>\n",
       "<p>25000 rows × 785 columns</p>\n",
       "</div>"
      ],
      "text/plain": [
       "         0    1    2    3    4    5    6    7    8    9  ...  775  776  777  \\\n",
       "0      174  188  199  204  209  215  184  161  135  102  ...   28    9   17   \n",
       "1       44   47   51   43   42   52   65   69   75   90  ...   55   35   34   \n",
       "2       50   59   60   59   57   54   52   52   50   52  ...  116  131   72   \n",
       "3      223  228  227  229  227  226  228  225  223  209  ...  160  176  235   \n",
       "4      100   95  133  183  196  238  213  180  153  141  ...   99  106  100   \n",
       "...    ...  ...  ...  ...  ...  ...  ...  ...  ...  ...  ...  ...  ...  ...   \n",
       "24995  142  147  149  152  154  158  159  160  163  164  ...  157  169  153   \n",
       "24996   92   90   88   83   95   88   97   98  105  108  ...   53   13   20   \n",
       "24997   41   50   44   51   91  111   72   75  101  122  ...  153  154  166   \n",
       "24998  243  181  114   90   88   86   94   87  103   98  ...  137  135  125   \n",
       "24999  243  245  248  242  248  249  249  248  242  248  ...  255  255  255   \n",
       "\n",
       "       778  779  780  781  782  783  category  \n",
       "0       40   31   11    4    3    3       cat  \n",
       "1       51   52   55   57   61   53       cat  \n",
       "2       75   72   81  128  144  165       cat  \n",
       "3      250  243  229  213  211  215       cat  \n",
       "4       96   99   95   80   85   84       cat  \n",
       "...    ...  ...  ...  ...  ...  ...       ...  \n",
       "24995  159  163  163  165  167  168       dog  \n",
       "24996   33   68   82   88   84   83       dog  \n",
       "24997  160  145  135  136  138  138       dog  \n",
       "24998  115   98   99  106  112  120       dog  \n",
       "24999  255  254  254  254  254  254       dog  \n",
       "\n",
       "[25000 rows x 785 columns]"
      ]
     },
     "execution_count": 10,
     "metadata": {},
     "output_type": "execute_result"
    }
   ],
   "source": [
    "final_df_all_gray = new_df.transpose()\n",
    "final_df_all_gray\n",
    "final_df_all_gray.reset_index(drop=True,inplace=True)\n",
    "final_df_all_gray['category'] = df['category']\n",
    "final_df_all_gray"
   ]
  },
  {
   "cell_type": "code",
   "execution_count": 11,
   "metadata": {},
   "outputs": [],
   "source": [
    "X = np.array(final_df_all_gray.drop(columns = ['category']))\n",
    "y = np.array(final_df_all_gray['category'])"
   ]
  },
  {
   "cell_type": "code",
   "execution_count": 12,
   "metadata": {},
   "outputs": [
    {
     "data": {
      "text/plain": [
       "(25000, 784)"
      ]
     },
     "execution_count": 12,
     "metadata": {},
     "output_type": "execute_result"
    }
   ],
   "source": [
    "X.shape"
   ]
  },
  {
   "cell_type": "code",
   "execution_count": 13,
   "metadata": {},
   "outputs": [
    {
     "data": {
      "text/plain": [
       "(25000,)"
      ]
     },
     "execution_count": 13,
     "metadata": {},
     "output_type": "execute_result"
    }
   ],
   "source": [
    "y.shape"
   ]
  },
  {
   "cell_type": "code",
   "execution_count": 14,
   "metadata": {},
   "outputs": [],
   "source": [
    "X = StandardScaler().fit_transform(X)"
   ]
  },
  {
   "cell_type": "code",
   "execution_count": 15,
   "metadata": {},
   "outputs": [],
   "source": [
    "X_train, X_test, y_train, y_test = train_test_split(X,y,random_state = 0)"
   ]
  },
  {
   "cell_type": "code",
   "execution_count": 16,
   "metadata": {},
   "outputs": [
    {
     "data": {
      "text/plain": [
       "'784'"
      ]
     },
     "execution_count": 16,
     "metadata": {},
     "output_type": "execute_result"
    },
    {
     "data": {
      "image/png": "[encoded data removed]",
      "text/plain": [
       "<Figure size 432x288 with 1 Axes>"
      ]
     },
     "metadata": {
      "needs_background": "light"
     },
     "output_type": "display_data"
    }
   ],
   "source": [
    "pca = PCA()\n",
    "pca.fit(X_train)\n",
    "cumsum = np.cumsum(pca.explained_variance_ratio_)\n",
    "plt.xlabel('Dimensions')\n",
    "plt.ylabel('Explained Variance')\n",
    "plt.grid(True)\n",
    "plt.plot(cumsum)\n",
    "str(pca.n_components_)"
   ]
  },
  {
   "cell_type": "markdown",
   "metadata": {},
   "source": [
    "- I chose n_components=0.95"
   ]
  },
  {
   "cell_type": "code",
   "execution_count": 17,
   "metadata": {},
   "outputs": [
    {
     "data": {
      "text/plain": [
       "174"
      ]
     },
     "execution_count": 17,
     "metadata": {},
     "output_type": "execute_result"
    }
   ],
   "source": [
    "pca = PCA(n_components=0.95)\n",
    "X_train_reduced=pca.fit_transform(X_train)\n",
    "str(pca.n_components_)\n",
    "pca_n = pca.n_components_\n",
    "pca_n"
   ]
  },
  {
   "cell_type": "markdown",
   "metadata": {},
   "source": [
    "# BaggingClassifier with XGBClassifier <br> accuracy: 0.56048"
   ]
  },
  {
   "cell_type": "code",
   "execution_count": 18,
   "metadata": {},
   "outputs": [
    {
     "data": {
      "text/plain": [
       "Pipeline(steps=[('kmeans', KMeans(n_clusters=7, random_state=42)),\n",
       "                ('bag_clf',\n",
       "                 BaggingClassifier(base_estimator=XGBClassifier(base_score=None,\n",
       "                                                                booster=None,\n",
       "                                                                colsample_bylevel=None,\n",
       "                                                                colsample_bynode=None,\n",
       "                                                                colsample_bytree=None,\n",
       "                                                                gamma=None,\n",
       "                                                                gpu_id=None,\n",
       "                                                                importance_type='gain',\n",
       "                                                                interaction_constraints=None,\n",
       "                                                                learning_rate=None,\n",
       "                                                                max_delta_step=None,\n",
       "                                                                max_depth=None,\n",
       "                                                                min_child_weight=None,\n",
       "                                                                missing=nan,\n",
       "                                                                monotone_constraints=None,\n",
       "                                                                n_estimators=100,\n",
       "                                                                n_jobs=None,\n",
       "                                                                num_parallel_tree=None,\n",
       "                                                                random_state=None,\n",
       "                                                                reg_alpha=None,\n",
       "                                                                reg_lambda=None,\n",
       "                                                                scale_pos_weight=None,\n",
       "                                                                subsample=None,\n",
       "                                                                tree_method=None,\n",
       "                                                                validate_parameters=None,\n",
       "                                                                verbosity=0)))])"
      ]
     },
     "execution_count": 18,
     "metadata": {},
     "output_type": "execute_result"
    }
   ],
   "source": [
    "pipeline = Pipeline([\n",
    "    (\"kmeans\", KMeans(n_clusters=7, random_state=42)),\n",
    "    (\"bag_clf\", BaggingClassifier(XGBClassifier(verbosity = 0))),\n",
    "])\n",
    "pipeline.fit(X_train_reduced, y_train)"
   ]
  },
  {
   "cell_type": "code",
   "execution_count": 19,
   "metadata": {},
   "outputs": [
    {
     "data": {
      "text/plain": [
       "174"
      ]
     },
     "execution_count": 19,
     "metadata": {},
     "output_type": "execute_result"
    }
   ],
   "source": [
    "pca = PCA(n_components=pca_n)\n",
    "X_test_reduced=pca.fit_transform(X_test)\n",
    "pca.n_components_"
   ]
  },
  {
   "cell_type": "code",
   "execution_count": 20,
   "metadata": {},
   "outputs": [
    {
     "data": {
      "text/plain": [
       "0.56256"
      ]
     },
     "execution_count": 20,
     "metadata": {},
     "output_type": "execute_result"
    }
   ],
   "source": [
    "pipeline_score = pipeline.score(X_test_reduced, y_test)\n",
    "pipeline_score"
   ]
  },
  {
   "cell_type": "code",
   "execution_count": 21,
   "metadata": {},
   "outputs": [
    {
     "name": "stdout",
     "output_type": "stream",
     "text": [
      "Fitting 3 folds for each of 9 candidates, totalling 27 fits\n",
      "[CV] kmeans__n_clusters=1 ............................................\n"
     ]
    },
    {
     "name": "stderr",
     "output_type": "stream",
     "text": [
      "[Parallel(n_jobs=1)]: Using backend SequentialBackend with 1 concurrent workers.\n"
     ]
    },
    {
     "name": "stdout",
     "output_type": "stream",
     "text": [
      "[CV] ............................. kmeans__n_clusters=1, total=  23.2s\n",
      "[CV] kmeans__n_clusters=1 ............................................\n"
     ]
    },
    {
     "name": "stderr",
     "output_type": "stream",
     "text": [
      "[Parallel(n_jobs=1)]: Done   1 out of   1 | elapsed:   23.1s remaining:    0.0s\n"
     ]
    },
    {
     "name": "stdout",
     "output_type": "stream",
     "text": [
      "[CV] ............................. kmeans__n_clusters=1, total=  23.7s\n",
      "[CV] kmeans__n_clusters=1 ............................................\n",
      "[CV] ............................. kmeans__n_clusters=1, total=  24.3s\n",
      "[CV] kmeans__n_clusters=2 ............................................\n",
      "[CV] ............................. kmeans__n_clusters=2, total=  33.6s\n",
      "[CV] kmeans__n_clusters=2 ............................................\n",
      "[CV] ............................. kmeans__n_clusters=2, total=  47.9s\n",
      "[CV] kmeans__n_clusters=2 ............................................\n",
      "[CV] ............................. kmeans__n_clusters=2, total=  41.7s\n",
      "[CV] kmeans__n_clusters=3 ............................................\n",
      "[CV] ............................. kmeans__n_clusters=3, total=  38.1s\n",
      "[CV] kmeans__n_clusters=3 ............................................\n",
      "[CV] ............................. kmeans__n_clusters=3, total=  38.7s\n",
      "[CV] kmeans__n_clusters=3 ............................................\n",
      "[CV] ............................. kmeans__n_clusters=3, total=  37.5s\n",
      "[CV] kmeans__n_clusters=4 ............................................\n",
      "[CV] ............................. kmeans__n_clusters=4, total=  46.5s\n",
      "[CV] kmeans__n_clusters=4 ............................................\n",
      "[CV] ............................. kmeans__n_clusters=4, total=  45.6s\n",
      "[CV] kmeans__n_clusters=4 ............................................\n",
      "[CV] ............................. kmeans__n_clusters=4, total=  46.9s\n",
      "[CV] kmeans__n_clusters=5 ............................................\n",
      "[CV] ............................. kmeans__n_clusters=5, total=  37.1s\n",
      "[CV] kmeans__n_clusters=5 ............................................\n",
      "[CV] ............................. kmeans__n_clusters=5, total=  20.6s\n",
      "[CV] kmeans__n_clusters=5 ............................................\n",
      "[CV] ............................. kmeans__n_clusters=5, total=  20.9s\n",
      "[CV] kmeans__n_clusters=6 ............................................\n",
      "[CV] ............................. kmeans__n_clusters=6, total=  23.4s\n",
      "[CV] kmeans__n_clusters=6 ............................................\n",
      "[CV] ............................. kmeans__n_clusters=6, total=  22.9s\n",
      "[CV] kmeans__n_clusters=6 ............................................\n",
      "[CV] ............................. kmeans__n_clusters=6, total=  23.6s\n",
      "[CV] kmeans__n_clusters=7 ............................................\n",
      "[CV] ............................. kmeans__n_clusters=7, total=  24.8s\n",
      "[CV] kmeans__n_clusters=7 ............................................\n",
      "[CV] ............................. kmeans__n_clusters=7, total=  25.0s\n",
      "[CV] kmeans__n_clusters=7 ............................................\n",
      "[CV] ............................. kmeans__n_clusters=7, total=  26.0s\n",
      "[CV] kmeans__n_clusters=8 ............................................\n",
      "[CV] ............................. kmeans__n_clusters=8, total=  29.2s\n",
      "[CV] kmeans__n_clusters=8 ............................................\n",
      "[CV] ............................. kmeans__n_clusters=8, total=  27.6s\n",
      "[CV] kmeans__n_clusters=8 ............................................\n",
      "[CV] ............................. kmeans__n_clusters=8, total=  28.2s\n",
      "[CV] kmeans__n_clusters=9 ............................................\n",
      "[CV] ............................. kmeans__n_clusters=9, total=  29.6s\n",
      "[CV] kmeans__n_clusters=9 ............................................\n",
      "[CV] ............................. kmeans__n_clusters=9, total=  29.2s\n",
      "[CV] kmeans__n_clusters=9 ............................................\n",
      "[CV] ............................. kmeans__n_clusters=9, total=  28.6s\n"
     ]
    },
    {
     "name": "stderr",
     "output_type": "stream",
     "text": [
      "[Parallel(n_jobs=1)]: Done  27 out of  27 | elapsed: 14.1min finished\n"
     ]
    },
    {
     "data": {
      "text/plain": [
       "GridSearchCV(cv=3,\n",
       "             estimator=Pipeline(steps=[('kmeans',\n",
       "                                        KMeans(n_clusters=7, random_state=42)),\n",
       "                                       ('bag_clf',\n",
       "                                        BaggingClassifier(base_estimator=XGBClassifier(base_score=None,\n",
       "                                                                                       booster=None,\n",
       "                                                                                       colsample_bylevel=None,\n",
       "                                                                                       colsample_bynode=None,\n",
       "                                                                                       colsample_bytree=None,\n",
       "                                                                                       gamma=None,\n",
       "                                                                                       gpu_id=None,\n",
       "                                                                                       importance_type='gain',\n",
       "                                                                                       interaction_constraints=None,\n",
       "                                                                                       learning_rate=None,\n",
       "                                                                                       max_delta_step=None,\n",
       "                                                                                       max_depth=None,\n",
       "                                                                                       min_child_weight=None,\n",
       "                                                                                       missing=nan,\n",
       "                                                                                       monotone_constraints=None,\n",
       "                                                                                       n_estimators=100,\n",
       "                                                                                       n_jobs=None,\n",
       "                                                                                       num_parallel_tree=None,\n",
       "                                                                                       random_state=None,\n",
       "                                                                                       reg_alpha=None,\n",
       "                                                                                       reg_lambda=None,\n",
       "                                                                                       scale_pos_weight=None,\n",
       "                                                                                       subsample=None,\n",
       "                                                                                       tree_method=None,\n",
       "                                                                                       validate_parameters=None,\n",
       "                                                                                       verbosity=0)))]),\n",
       "             param_grid={'kmeans__n_clusters': range(1, 10)}, verbose=2)"
      ]
     },
     "execution_count": 21,
     "metadata": {},
     "output_type": "execute_result"
    }
   ],
   "source": [
    "param_grid_xgb = dict(kmeans__n_clusters=range(1, 10))\n",
    "grid_clf_xgb = GridSearchCV(pipeline, param_grid_xgb, cv=3, verbose=2)\n",
    "grid_clf_xgb.fit(X_train_reduced, y_train)"
   ]
  },
  {
   "cell_type": "code",
   "execution_count": 22,
   "metadata": {},
   "outputs": [
    {
     "data": {
      "text/plain": [
       "{'kmeans__n_clusters': 7}"
      ]
     },
     "execution_count": 22,
     "metadata": {},
     "output_type": "execute_result"
    }
   ],
   "source": [
    "grid_clf_xgb.best_params_"
   ]
  },
  {
   "cell_type": "code",
   "execution_count": 23,
   "metadata": {},
   "outputs": [
    {
     "data": {
      "text/plain": [
       "0.56048"
      ]
     },
     "execution_count": 23,
     "metadata": {},
     "output_type": "execute_result"
    }
   ],
   "source": [
    "grid_clf_xgb.score(X_test_reduced,y_test)"
   ]
  },
  {
   "cell_type": "markdown",
   "metadata": {},
   "source": [
    "# VotingClassifier hard <br> accuracy: 0.63456"
   ]
  },
  {
   "cell_type": "code",
   "execution_count": 24,
   "metadata": {},
   "outputs": [],
   "source": [
    "rnd_clf = RandomForestClassifier()\n",
    "xgb_clf = XGBClassifier(verbosity = 0)\n",
    "knn_clf = KNeighborsClassifier(n_neighbors=3)\n",
    "dec_clf = DecisionTreeClassifier()\n",
    "\n",
    "voting_clf_hard = VotingClassifier(\n",
    "             estimators=[ ('rf', rnd_clf), ('xgb', xgb_clf), ('knn', knn_clf), ('dec', dec_clf)],\n",
    "             voting='hard')"
   ]
  },
  {
   "cell_type": "code",
   "execution_count": 25,
   "metadata": {},
   "outputs": [
    {
     "data": {
      "text/plain": [
       "VotingClassifier(estimators=[('rf', RandomForestClassifier()),\n",
       "                             ('xgb',\n",
       "                              XGBClassifier(base_score=None, booster=None,\n",
       "                                            colsample_bylevel=None,\n",
       "                                            colsample_bynode=None,\n",
       "                                            colsample_bytree=None, gamma=None,\n",
       "                                            gpu_id=None, importance_type='gain',\n",
       "                                            interaction_constraints=None,\n",
       "                                            learning_rate=None,\n",
       "                                            max_delta_step=None, max_depth=None,\n",
       "                                            min_child_weight=None, missing=nan,\n",
       "                                            monotone_constraints=None,\n",
       "                                            n_estimators=100, n_jobs=None,\n",
       "                                            num_parallel_tree=None,\n",
       "                                            random_state=None, reg_alpha=None,\n",
       "                                            reg_lambda=None,\n",
       "                                            scale_pos_weight=None,\n",
       "                                            subsample=None, tree_method=None,\n",
       "                                            validate_parameters=None,\n",
       "                                            verbosity=0)),\n",
       "                             ('knn', KNeighborsClassifier(n_neighbors=3)),\n",
       "                             ('dec', DecisionTreeClassifier())])"
      ]
     },
     "execution_count": 25,
     "metadata": {},
     "output_type": "execute_result"
    }
   ],
   "source": [
    "voting_clf_hard.fit(X_train_reduced, y_train)"
   ]
  },
  {
   "cell_type": "code",
   "execution_count": 26,
   "metadata": {},
   "outputs": [
    {
     "name": "stdout",
     "output_type": "stream",
     "text": [
      "RandomForestClassifier 0.64816\n",
      "XGBClassifier 0.65104\n",
      "KNeighborsClassifier 0.57216\n",
      "DecisionTreeClassifier 0.55552\n",
      "VotingClassifier 0.63664\n"
     ]
    }
   ],
   "source": [
    "for clf in (rnd_clf, xgb_clf, knn_clf, dec_clf, voting_clf_hard):\n",
    "    clf.fit(X_train, y_train)\n",
    "    y_pred = clf.predict(X_test)\n",
    "    print(clf.__class__.__name__, accuracy_score(y_test, y_pred))"
   ]
  },
  {
   "cell_type": "code",
   "execution_count": 27,
   "metadata": {},
   "outputs": [
    {
     "data": {
      "text/plain": [
       "0.63456"
      ]
     },
     "execution_count": 27,
     "metadata": {},
     "output_type": "execute_result"
    }
   ],
   "source": [
    "score_hard = cross_val_score(voting_clf_hard, X, y, cv=5).mean()\n",
    "score_hard"
   ]
  },
  {
   "cell_type": "markdown",
   "metadata": {},
   "source": [
    "# VotingClassifier soft <br> accuracy: 0.61552"
   ]
  },
  {
   "cell_type": "code",
   "execution_count": 28,
   "metadata": {},
   "outputs": [],
   "source": [
    "rnd_clf = RandomForestClassifier()\n",
    "xgb_clf = XGBClassifier(verbosity = 0)\n",
    "knn_clf = KNeighborsClassifier(n_neighbors=3)\n",
    "dec_clf = DecisionTreeClassifier()\n",
    "\n",
    "voting_clf_soft = VotingClassifier(\n",
    "             estimators=[ ('rf', rnd_clf), ('xgb', xgb_clf), ('knn', knn_clf), ('dec', dec_clf)],\n",
    "             voting='soft')"
   ]
  },
  {
   "cell_type": "code",
   "execution_count": 29,
   "metadata": {},
   "outputs": [
    {
     "data": {
      "text/plain": [
       "VotingClassifier(estimators=[('rf', RandomForestClassifier()),\n",
       "                             ('xgb',\n",
       "                              XGBClassifier(base_score=None, booster=None,\n",
       "                                            colsample_bylevel=None,\n",
       "                                            colsample_bynode=None,\n",
       "                                            colsample_bytree=None, gamma=None,\n",
       "                                            gpu_id=None, importance_type='gain',\n",
       "                                            interaction_constraints=None,\n",
       "                                            learning_rate=None,\n",
       "                                            max_delta_step=None, max_depth=None,\n",
       "                                            min_child_weight=None, missing=nan,\n",
       "                                            monotone_constraints=None,\n",
       "                                            n_estimators=100, n_jobs=None,\n",
       "                                            num_parallel_tree=None,\n",
       "                                            random_state=None, reg_alpha=None,\n",
       "                                            reg_lambda=None,\n",
       "                                            scale_pos_weight=None,\n",
       "                                            subsample=None, tree_method=None,\n",
       "                                            validate_parameters=None,\n",
       "                                            verbosity=0)),\n",
       "                             ('knn', KNeighborsClassifier(n_neighbors=3)),\n",
       "                             ('dec', DecisionTreeClassifier())],\n",
       "                 voting='soft')"
      ]
     },
     "execution_count": 29,
     "metadata": {},
     "output_type": "execute_result"
    }
   ],
   "source": [
    "voting_clf_soft.fit(X_train_reduced, y_train)"
   ]
  },
  {
   "cell_type": "code",
   "execution_count": 30,
   "metadata": {},
   "outputs": [
    {
     "name": "stdout",
     "output_type": "stream",
     "text": [
      "RandomForestClassifier 0.64688\n",
      "XGBClassifier 0.65104\n",
      "KNeighborsClassifier 0.57216\n",
      "DecisionTreeClassifier 0.55232\n",
      "VotingClassifier 0.6128\n"
     ]
    }
   ],
   "source": [
    "for clf in ( rnd_clf, xgb_clf, knn_clf, dec_clf, voting_clf_soft):\n",
    "    clf.fit(X_train, y_train)\n",
    "    y_pred = clf.predict(X_test)\n",
    "    print(clf.__class__.__name__, accuracy_score(y_test, y_pred))"
   ]
  },
  {
   "cell_type": "code",
   "execution_count": 31,
   "metadata": {},
   "outputs": [
    {
     "data": {
      "text/plain": [
       "0.61552"
      ]
     },
     "execution_count": 31,
     "metadata": {},
     "output_type": "execute_result"
    }
   ],
   "source": [
    "scores_soft = cross_val_score(voting_clf_soft, X, y, cv=5).mean()\n",
    "scores_soft"
   ]
  },
  {
   "cell_type": "markdown",
   "metadata": {},
   "source": [
    "# XGBClassifier with no bagging <br> accuracy: 0.54768"
   ]
  },
  {
   "cell_type": "code",
   "execution_count": 32,
   "metadata": {},
   "outputs": [
    {
     "data": {
      "text/plain": [
       "Pipeline(steps=[('kmeans', KMeans(n_clusters=7, random_state=42)),\n",
       "                ('xgbc_model',\n",
       "                 XGBClassifier(base_score=0.5, booster='gbtree',\n",
       "                               colsample_bylevel=1, colsample_bynode=1,\n",
       "                               colsample_bytree=1, gamma=0, gpu_id=-1,\n",
       "                               importance_type='gain',\n",
       "                               interaction_constraints='',\n",
       "                               learning_rate=0.300000012, max_delta_step=0,\n",
       "                               max_depth=6, min_child_weight=1, missing=nan,\n",
       "                               monotone_constraints='()', n_estimators=100,\n",
       "                               n_jobs=2, num_parallel_tree=1, random_state=0,\n",
       "                               reg_alpha=0, reg_lambda=1, scale_pos_weight=1,\n",
       "                               subsample=1, tree_method='exact',\n",
       "                               validate_parameters=1, verbosity=0))])"
      ]
     },
     "execution_count": 32,
     "metadata": {},
     "output_type": "execute_result"
    }
   ],
   "source": [
    "pipeline = Pipeline([\n",
    "    (\"kmeans\", KMeans(n_clusters=7, random_state=42)),\n",
    "    (\"xgbc_model\", XGBClassifier(verbosity = 0)),\n",
    "])\n",
    "pipeline.fit(X_train_reduced, y_train)"
   ]
  },
  {
   "cell_type": "code",
   "execution_count": 33,
   "metadata": {},
   "outputs": [
    {
     "data": {
      "text/plain": [
       "174"
      ]
     },
     "execution_count": 33,
     "metadata": {},
     "output_type": "execute_result"
    }
   ],
   "source": [
    "pca = PCA(n_components=pca_n)\n",
    "X_test_reduced=pca.fit_transform(X_test)\n",
    "pca.n_components_"
   ]
  },
  {
   "cell_type": "code",
   "execution_count": 34,
   "metadata": {},
   "outputs": [],
   "source": [
    "pipeline_score = pipeline.score(X_test_reduced, y_test)"
   ]
  },
  {
   "cell_type": "code",
   "execution_count": 35,
   "metadata": {},
   "outputs": [
    {
     "name": "stdout",
     "output_type": "stream",
     "text": [
      "Fitting 3 folds for each of 9 candidates, totalling 27 fits\n",
      "[CV] kmeans__n_clusters=1 ............................................\n"
     ]
    },
    {
     "name": "stderr",
     "output_type": "stream",
     "text": [
      "[Parallel(n_jobs=1)]: Using backend SequentialBackend with 1 concurrent workers.\n"
     ]
    },
    {
     "name": "stdout",
     "output_type": "stream",
     "text": [
      "[CV] ............................. kmeans__n_clusters=1, total=   2.4s\n",
      "[CV] kmeans__n_clusters=1 ............................................\n"
     ]
    },
    {
     "name": "stderr",
     "output_type": "stream",
     "text": [
      "[Parallel(n_jobs=1)]: Done   1 out of   1 | elapsed:    2.3s remaining:    0.0s\n"
     ]
    },
    {
     "name": "stdout",
     "output_type": "stream",
     "text": [
      "[CV] ............................. kmeans__n_clusters=1, total=   2.4s\n",
      "[CV] kmeans__n_clusters=1 ............................................\n",
      "[CV] ............................. kmeans__n_clusters=1, total=   2.4s\n",
      "[CV] kmeans__n_clusters=2 ............................................\n",
      "[CV] ............................. kmeans__n_clusters=2, total=   2.8s\n",
      "[CV] kmeans__n_clusters=2 ............................................\n",
      "[CV] ............................. kmeans__n_clusters=2, total=   2.8s\n",
      "[CV] kmeans__n_clusters=2 ............................................\n",
      "[CV] ............................. kmeans__n_clusters=2, total=   2.7s\n",
      "[CV] kmeans__n_clusters=3 ............................................\n",
      "[CV] ............................. kmeans__n_clusters=3, total=   3.8s\n",
      "[CV] kmeans__n_clusters=3 ............................................\n",
      "[CV] ............................. kmeans__n_clusters=3, total=   3.8s\n",
      "[CV] kmeans__n_clusters=3 ............................................\n",
      "[CV] ............................. kmeans__n_clusters=3, total=   3.6s\n",
      "[CV] kmeans__n_clusters=4 ............................................\n",
      "[CV] ............................. kmeans__n_clusters=4, total=   4.0s\n",
      "[CV] kmeans__n_clusters=4 ............................................\n",
      "[CV] ............................. kmeans__n_clusters=4, total=   4.3s\n",
      "[CV] kmeans__n_clusters=4 ............................................\n",
      "[CV] ............................. kmeans__n_clusters=4, total=   4.1s\n",
      "[CV] kmeans__n_clusters=5 ............................................\n",
      "[CV] ............................. kmeans__n_clusters=5, total=   5.0s\n",
      "[CV] kmeans__n_clusters=5 ............................................\n",
      "[CV] ............................. kmeans__n_clusters=5, total=   4.8s\n",
      "[CV] kmeans__n_clusters=5 ............................................\n",
      "[CV] ............................. kmeans__n_clusters=5, total=   5.4s\n",
      "[CV] kmeans__n_clusters=6 ............................................\n",
      "[CV] ............................. kmeans__n_clusters=6, total=   6.2s\n",
      "[CV] kmeans__n_clusters=6 ............................................\n",
      "[CV] ............................. kmeans__n_clusters=6, total=   5.4s\n",
      "[CV] kmeans__n_clusters=6 ............................................\n",
      "[CV] ............................. kmeans__n_clusters=6, total=   5.9s\n",
      "[CV] kmeans__n_clusters=7 ............................................\n",
      "[CV] ............................. kmeans__n_clusters=7, total=   6.5s\n",
      "[CV] kmeans__n_clusters=7 ............................................\n",
      "[CV] ............................. kmeans__n_clusters=7, total=   6.2s\n",
      "[CV] kmeans__n_clusters=7 ............................................\n",
      "[CV] ............................. kmeans__n_clusters=7, total=   7.4s\n",
      "[CV] kmeans__n_clusters=8 ............................................\n",
      "[CV] ............................. kmeans__n_clusters=8, total=   6.6s\n",
      "[CV] kmeans__n_clusters=8 ............................................\n",
      "[CV] ............................. kmeans__n_clusters=8, total=   7.3s\n",
      "[CV] kmeans__n_clusters=8 ............................................\n",
      "[CV] ............................. kmeans__n_clusters=8, total=   7.5s\n",
      "[CV] kmeans__n_clusters=9 ............................................\n",
      "[CV] ............................. kmeans__n_clusters=9, total=   8.1s\n",
      "[CV] kmeans__n_clusters=9 ............................................\n",
      "[CV] ............................. kmeans__n_clusters=9, total=   7.5s\n",
      "[CV] kmeans__n_clusters=9 ............................................\n",
      "[CV] ............................. kmeans__n_clusters=9, total=   7.2s\n"
     ]
    },
    {
     "name": "stderr",
     "output_type": "stream",
     "text": [
      "[Parallel(n_jobs=1)]: Done  27 out of  27 | elapsed:  2.3min finished\n"
     ]
    },
    {
     "data": {
      "text/plain": [
       "GridSearchCV(cv=3,\n",
       "             estimator=Pipeline(steps=[('kmeans',\n",
       "                                        KMeans(n_clusters=7, random_state=42)),\n",
       "                                       ('xgbc_model',\n",
       "                                        XGBClassifier(base_score=0.5,\n",
       "                                                      booster='gbtree',\n",
       "                                                      colsample_bylevel=1,\n",
       "                                                      colsample_bynode=1,\n",
       "                                                      colsample_bytree=1,\n",
       "                                                      gamma=0, gpu_id=-1,\n",
       "                                                      importance_type='gain',\n",
       "                                                      interaction_constraints='',\n",
       "                                                      learning_rate=0.300000012,\n",
       "                                                      max_delta_step=0,\n",
       "                                                      max_depth=6,\n",
       "                                                      min_child_weight=1,\n",
       "                                                      missing=nan,\n",
       "                                                      monotone_constraints='()',\n",
       "                                                      n_estimators=100,\n",
       "                                                      n_jobs=2,\n",
       "                                                      num_parallel_tree=1,\n",
       "                                                      random_state=0,\n",
       "                                                      reg_alpha=0, reg_lambda=1,\n",
       "                                                      scale_pos_weight=1,\n",
       "                                                      subsample=1,\n",
       "                                                      tree_method='exact',\n",
       "                                                      validate_parameters=1,\n",
       "                                                      verbosity=0))]),\n",
       "             param_grid={'kmeans__n_clusters': range(1, 10)}, verbose=2)"
      ]
     },
     "execution_count": 35,
     "metadata": {},
     "output_type": "execute_result"
    }
   ],
   "source": [
    "param_grid_XGBClassifier = dict(kmeans__n_clusters=range(1, 10))\n",
    "grid_clf_XGBClassifier = GridSearchCV(pipeline, param_grid_XGBClassifier, cv=3, verbose=2)\n",
    "grid_clf_XGBClassifier.fit(X_train_reduced, y_train)"
   ]
  },
  {
   "cell_type": "code",
   "execution_count": 36,
   "metadata": {},
   "outputs": [
    {
     "data": {
      "text/plain": [
       "{'kmeans__n_clusters': 7}"
      ]
     },
     "execution_count": 36,
     "metadata": {},
     "output_type": "execute_result"
    }
   ],
   "source": [
    "grid_clf_XGBClassifier.best_params_"
   ]
  },
  {
   "cell_type": "code",
   "execution_count": 37,
   "metadata": {},
   "outputs": [
    {
     "data": {
      "text/plain": [
       "0.54768"
      ]
     },
     "execution_count": 37,
     "metadata": {},
     "output_type": "execute_result"
    }
   ],
   "source": [
    "grid_clf_XGBClassifier.score(X_test_reduced,y_test)"
   ]
  },
  {
   "cell_type": "markdown",
   "metadata": {},
   "source": [
    "# Just XGBClassifier <br> accuracy: 0.6577200000000001\n"
   ]
  },
  {
   "cell_type": "code",
   "execution_count": 38,
   "metadata": {},
   "outputs": [
    {
     "name": "stdout",
     "output_type": "stream",
     "text": [
      "['dog' 'dog' 'dog' 'cat' 'cat' 'dog' 'dog' 'dog' 'dog' 'cat']\n",
      "['dog' 'cat' 'dog' 'cat' 'cat' 'dog' 'dog' 'cat' 'cat' 'dog']\n"
     ]
    }
   ],
   "source": [
    "clf_xgb = XGBClassifier(verbosity = 0)\n",
    "clf_xgb.fit(X_train_reduced, y_train)\n",
    "y_pred = clf_xgb.predict(X_test_reduced)\n",
    "print(y_pred[:10])\n",
    "print(y_test[:10])"
   ]
  },
  {
   "cell_type": "code",
   "execution_count": 39,
   "metadata": {},
   "outputs": [
    {
     "data": {
      "text/plain": [
       "0.6577200000000001"
      ]
     },
     "execution_count": 39,
     "metadata": {},
     "output_type": "execute_result"
    }
   ],
   "source": [
    "scores = cross_val_score(clf_xgb, X, y, cv=5).mean()\n",
    "scores"
   ]
  },
  {
   "cell_type": "markdown",
   "metadata": {},
   "source": [
    "# Here i plot confusion matrix of the best model ('Just XGBClassifier') and plot the accuracy in pie chart <br> at the end I presented a graph for the conclusion that shows the differences between all the models"
   ]
  },
  {
   "cell_type": "code",
   "execution_count": 48,
   "metadata": {},
   "outputs": [
    {
     "data": {
      "image/png": "[encoded data removed]",
      "text/plain": [
       "<Figure size 432x288 with 2 Axes>"
      ]
     },
     "metadata": {
      "needs_background": "light"
     },
     "output_type": "display_data"
    }
   ],
   "source": [
    "plot_confusion_matrix(clf_xgb.fit(X_train_reduced, y_train), X_test_reduced, y_test)\n",
    "plt.title('Just XGBClassifier')\n",
    "plt.show()"
   ]
  },
  {
   "cell_type": "code",
   "execution_count": 44,
   "metadata": {},
   "outputs": [
    {
     "data": {
      "image/png": "[encoded data removed]",
      "text/plain": [
       "<Figure size 432x288 with 1 Axes>"
      ]
     },
     "metadata": {},
     "output_type": "display_data"
    }
   ],
   "source": [
    "labels = ['Correct classification', 'Incorrect classification']\n",
    "sizes = [scores.mean(), 1-scores.mean()]\n",
    "explode = (0.1, 0)  # The cause of separation\n",
    "\n",
    "fig1, ax1 = plt.subplots()\n",
    "plt.title('Just XGBClassifier')\n",
    "ax1.pie(sizes, explode=explode, labels=labels, autopct='%1.1f%%',\n",
    "        shadow=True, startangle=90)\n",
    "ax1.axis('equal')\n",
    "\n",
    "plt.show()"
   ]
  },
  {
   "cell_type": "code",
   "execution_count": 50,
   "metadata": {},
   "outputs": [
    {
     "data": {
      "image/png": "[encoded data removed]",
      "text/plain": [
       "<Figure size 432x288 with 1 Axes>"
      ]
     },
     "metadata": {
      "needs_background": "light"
     },
     "output_type": "display_data"
    }
   ],
   "source": [
    "fig = plt.figure()\n",
    "\n",
    "# [left, bottom, width, height]\n",
    "axes = fig.add_axes([1,1,1,1])\n",
    "\n",
    "D = {u'BaggingClassifier with XGBClassifier':grid_clf_xgb.score(X_test_reduced,y_test),\n",
    "     u'VotingClassifier Hard': score_hard.mean(),\n",
    "     u'VotingClassifier soft':scores_soft.mean(), u'XGBClassifier':grid_clf_XGBClassifier.score(X_test_reduced,y_test),\n",
    "    u'Just XGBClassifier': scores.mean()}\n",
    "\n",
    "\n",
    "\n",
    "plt.barh(range(len(D)), list(D.values()), align='center')\n",
    "plt.yticks(range(len(D)), list(D.keys()),)\n",
    "plt.title('Comparison between all models')\n",
    "\n",
    "y = [grid_clf_xgb.score(X_test_reduced,y_test), score_hard.mean(), scores_soft.mean(),\n",
    "     grid_clf_XGBClassifier.score(X_test_reduced,y_test), scores.mean()]\n",
    "# print(y)\n",
    "x = []\n",
    "for i in y:\n",
    "    x.append('{:.3f}'.format(i))\n",
    "# print(x)\n",
    "x = [float(i) for i in x]\n",
    "# print(x)\n",
    "\n",
    "for i, v in enumerate(x):\n",
    "    plt.text(v, i, str(v), color='blue', fontweight='bold')\n",
    "\n",
    "\n",
    "\n",
    "plt.show()"
   ]
  }
 ],
 "metadata": {
  "kernelspec": {
   "display_name": "Python 3",
   "language": "python",
   "name": "python3"
  },
  "language_info": {
   "codemirror_mode": {
    "name": "ipython",
    "version": 3
   },
   "file_extension": ".py",
   "mimetype": "text/x-python",
   "name": "python",
   "nbconvert_exporter": "python",
   "pygments_lexer": "ipython3",
   "version": "3.8.3"
  }
 },
 "nbformat": 4,
 "nbformat_minor": 4
}
